{
  "nbformat": 4,
  "nbformat_minor": 0,
  "metadata": {
    "colab": {
      "provenance": [],
      "authorship_tag": "ABX9TyORYjegowMR4A+2lZf5fa07",
      "include_colab_link": true
    },
    "kernelspec": {
      "name": "python3",
      "display_name": "Python 3"
    },
    "language_info": {
      "name": "python"
    }
  },
  "cells": [
    {
      "cell_type": "markdown",
      "metadata": {
        "id": "view-in-github",
        "colab_type": "text"
      },
      "source": [
        "<a href=\"https://colab.research.google.com/github/Dipak22/Case-Studies/blob/master/Attention_implementation.ipynb\" target=\"_parent\"><img src=\"https://colab.research.google.com/assets/colab-badge.svg\" alt=\"Open In Colab\"/></a>"
      ]
    },
    {
      "cell_type": "code",
      "execution_count": 2,
      "metadata": {
        "colab": {
          "base_uri": "https://localhost:8080/"
        },
        "id": "LW5xx6LGObXM",
        "outputId": "e2459186-3732-440a-ff5f-1535b0062930"
      },
      "outputs": [
        {
          "output_type": "stream",
          "name": "stdout",
          "text": [
            "X shape:  torch.Size([4, 64, 128])\n"
          ]
        }
      ],
      "source": [
        "import torch\n",
        "import torch.nn as nn\n",
        "import torch.nn.functional as F\n",
        "\n",
        "batch_size = 4\n",
        "seq_len = 64\n",
        "embed_dim = 128\n",
        "\n",
        "x = torch.randn(batch_size, seq_len, embed_dim)\n",
        "print(\"X shape: \", x.shape)"
      ]
    },
    {
      "cell_type": "code",
      "source": [
        "# temporary implemetation\n",
        "\n",
        "similarity = x @ x.transpose(1,2)\n",
        "print(\"similarilty shape: \", similarity.shape)\n",
        "print(\"Pre normalized variance:\", similarity.var())\n",
        "similarity_norm = similarity/(embed_dim**0.5)\n",
        "print(\"Normalized variance: \", similarity_norm.var())\n",
        "\n",
        "attn = similarity_norm.softmax(dim=-1)\n",
        "\n",
        "context_vectors = attn@x\n",
        "print(\"output shape: \", context_vectors.shape)"
      ],
      "metadata": {
        "colab": {
          "base_uri": "https://localhost:8080/"
        },
        "id": "W_hbm5PURvkp",
        "outputId": "d789802d-58dc-454e-a687-a005994ef821"
      },
      "execution_count": 7,
      "outputs": [
        {
          "output_type": "stream",
          "name": "stdout",
          "text": [
            "similarilty shape:  torch.Size([4, 64, 64])\n",
            "Pre normalized variance: tensor(387.0992)\n",
            "Normalized variance:  tensor(3.0242)\n",
            "output shape:  torch.Size([4, 64, 128])\n"
          ]
        }
      ]
    },
    {
      "cell_type": "code",
      "source": [
        "#Self Attention\n",
        "class Attention(nn.Module):\n",
        "  def __init__(self, embed_dim):\n",
        "    super().__init__()\n",
        "\n",
        "    self.embed_dim = embed_dim\n",
        "    self.query = nn.Linear(self.embed_dim, self.embed_dim)\n",
        "    self.key = nn.Linear(self.embed_dim, self.embed_dim)\n",
        "    self.value = nn.Linear(self.embed_dim, self.embed_dim)\n",
        "  def forward(self,x):\n",
        "    q = self.query(x)\n",
        "    k = self.key(x)\n",
        "    v = self.value(x)\n",
        "    similarity = (q @ k.transpose(1,2))/(self.embed_dim**0.5)\n",
        "    attention = similarity.softmax(dim = -1)\n",
        "    output = attention @ v\n",
        "    return output\n",
        "\n",
        "attention = Attention(embed_dim=128)\n",
        "output = attention(x)\n",
        "print(output.shape)\n"
      ],
      "metadata": {
        "colab": {
          "base_uri": "https://localhost:8080/"
        },
        "id": "LtdGfLTKSqvg",
        "outputId": "5eec1e5a-e510-42dc-d698-1f8fca654648"
      },
      "execution_count": 8,
      "outputs": [
        {
          "output_type": "stream",
          "name": "stdout",
          "text": [
            "torch.Size([4, 64, 128])\n"
          ]
        }
      ]
    },
    {
      "cell_type": "code",
      "source": [],
      "metadata": {
        "id": "zX0wEpMCUrQE"
      },
      "execution_count": null,
      "outputs": []
    }
  ]
}