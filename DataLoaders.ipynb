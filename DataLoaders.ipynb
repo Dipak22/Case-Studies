{
  "nbformat": 4,
  "nbformat_minor": 0,
  "metadata": {
    "colab": {
      "provenance": [],
      "authorship_tag": "ABX9TyMIaUvp73Ub2WT+jnlJdid5",
      "include_colab_link": true
    },
    "kernelspec": {
      "name": "python3",
      "display_name": "Python 3"
    },
    "language_info": {
      "name": "python"
    }
  },
  "cells": [
    {
      "cell_type": "markdown",
      "metadata": {
        "id": "view-in-github",
        "colab_type": "text"
      },
      "source": [
        "<a href=\"https://colab.research.google.com/github/Dipak22/Case-Studies/blob/master/DataLoaders.ipynb\" target=\"_parent\"><img src=\"https://colab.research.google.com/assets/colab-badge.svg\" alt=\"Open In Colab\"/></a>"
      ]
    },
    {
      "cell_type": "markdown",
      "source": [
        "## Import necessary function and classes"
      ],
      "metadata": {
        "id": "K1i8D9oAK3rk"
      }
    },
    {
      "cell_type": "code",
      "execution_count": 1,
      "metadata": {
        "id": "59wxii9T7tzC"
      },
      "outputs": [],
      "source": [
        "import torch\n",
        "import torch.nn as nn\n",
        "import torchvision\n",
        "from torchvision import transforms\n",
        "from torch.utils.data import Dataset, DataLoader\n",
        "from torchvision.datasets import ImageFolder\n",
        "from tqdm.notebook import tqdm\n"
      ]
    },
    {
      "cell_type": "code",
      "source": [
        "import kagglehub\n",
        "\n",
        "# Download latest version\n",
        "path = kagglehub.dataset_download(\"karakaggle/kaggle-cat-vs-dog-dataset\")\n",
        "\n",
        "print(\"Path to dataset files:\", path)"
      ],
      "metadata": {
        "colab": {
          "base_uri": "https://localhost:8080/"
        },
        "id": "n1ED3_3CLPLC",
        "outputId": "43b6c915-9fbd-4c8c-dadb-ff14b6e6a86a"
      },
      "execution_count": 5,
      "outputs": [
        {
          "output_type": "stream",
          "name": "stdout",
          "text": [
            "Path to dataset files: /kaggle/input/kaggle-cat-vs-dog-dataset\n"
          ]
        }
      ]
    },
    {
      "cell_type": "code",
      "source": [
        "import os # Allows to access files\n",
        "import numpy as np\n",
        "from PIL import Image # Allows us to Load Images\n",
        "from collections import Counter # Utility function to give us the counts of unique items in an iterable"
      ],
      "metadata": {
        "id": "ifnL7DIAMWwq"
      },
      "execution_count": 6,
      "outputs": []
    },
    {
      "cell_type": "markdown",
      "source": [
        "##Create dataset class"
      ],
      "metadata": {
        "id": "sMZMI-C3NJpo"
      }
    },
    {
      "cell_type": "markdown",
      "source": [
        "### Create image transformations to apply"
      ],
      "metadata": {
        "id": "5E0OUZwnQ1TJ"
      }
    },
    {
      "cell_type": "code",
      "source": [
        "img_transforms = transforms.Compose([\n",
        "    transforms.Resize((224,224)),\n",
        "    transforms.RandomHorizontalFlip(0.5),\n",
        "    transforms.ToTensor(),\n",
        "    transforms.Normalize(mean=[0.485,0.456,0.406], std=[0.229,0.224,0.225])\n",
        "                                     ])"
      ],
      "metadata": {
        "id": "fXx9O5z_Q0aq"
      },
      "execution_count": 24,
      "outputs": []
    },
    {
      "cell_type": "code",
      "source": [
        "class DogsVsCats(Dataset):\n",
        "  def __init__(self, path_to_folder):\n",
        "    path_to_cats = os.path.join(path_to_folder, \"Cat\")\n",
        "    path_to_dogs = os.path.join(path_to_folder, \"Dog\")\n",
        "\n",
        "    dog_files = os.listdir(path_to_dogs)\n",
        "    cat_files = os.listdir(path_to_cats)\n",
        "\n",
        "    path_to_dog_files= [os.path.join(path_to_dogs,file) for file in dog_files]\n",
        "    path_to_cat_files = [os.path.join(path_to_cats,file) for file in cat_files]\n",
        "\n",
        "    self.training_files = path_to_dog_files + path_to_cat_files\n",
        "    self.dog_label, self.cat_label = 0,1\n",
        "    self.transforms = img_transforms\n",
        "  def __len__(self):\n",
        "    return len(self.training_files)\n",
        "\n",
        "  def __getitem__(self, idx):\n",
        "    path_to_image = self.training_files[idx]\n",
        "    if \"Dog\" in path_to_image:\n",
        "      label = self.dog_label\n",
        "    else:\n",
        "      label = self.cat_label\n",
        "    image = Image.open(path_to_image)\n",
        "    image = self.transforms(image)\n",
        "    return image, label\n",
        "\n",
        "dogvcat = DogsVsCats(path +\"/kagglecatsanddogs_3367a/PetImages/\")\n",
        "print(\"total Training samples\", len(dogvcat))\n",
        "\n",
        "\n",
        "\n",
        "dogsvcatsloader = DataLoader(dogvcat, batch_size = 16, shuffle = True)\n",
        "\n",
        "for images, labels in dogsvcatsloader:\n",
        "  print(\"image label:\", labels)\n",
        "  print(\"Image shape\", images.shape)\n",
        "  break"
      ],
      "metadata": {
        "colab": {
          "base_uri": "https://localhost:8080/"
        },
        "id": "WM84G6GtMgZ6",
        "outputId": "280ceca6-ba6a-449e-c9d1-d2fc75fce321"
      },
      "execution_count": 26,
      "outputs": [
        {
          "output_type": "stream",
          "name": "stdout",
          "text": [
            "total Training samples 24961\n",
            "image label: tensor([1, 1, 0, 1, 0, 1, 0, 1, 0, 1, 1, 1, 1, 0, 0, 1])\n",
            "Image shape torch.Size([16, 3, 224, 224])\n"
          ]
        }
      ]
    },
    {
      "cell_type": "code",
      "source": [
        "i, l = dogvcat[0]\n",
        "i.shape, l"
      ],
      "metadata": {
        "colab": {
          "base_uri": "https://localhost:8080/"
        },
        "id": "g3sPZ6cJPOb1",
        "outputId": "e3ebe5ac-7e2b-40b7-9c77-4f5b097af98e"
      },
      "execution_count": 23,
      "outputs": [
        {
          "output_type": "execute_result",
          "data": {
            "text/plain": [
              "(torch.Size([3, 375, 500]), 0)"
            ]
          },
          "metadata": {},
          "execution_count": 23
        }
      ]
    },
    {
      "cell_type": "markdown",
      "source": [
        "## partition the data into train and test splits"
      ],
      "metadata": {
        "id": "vOjxEyW0SUkQ"
      }
    },
    {
      "cell_type": "code",
      "source": [
        "train_samples = int(0.9 * len(dogvcat))\n",
        "test_samples = len(dogvcat) - train_samples\n",
        "print(f\"Train samples : {train_samples} , Test samples: {test_samples}\")\n",
        "\n",
        "train_dataset, test_dataset = torch.utils.data.random_split(dogvcat,\n",
        "                                                            lengths=[train_samples, test_samples])\n",
        "\n",
        "train_dataloader = DataLoader(train_dataset, shuffle = True, batch_size=16)\n",
        "test_dataloader = DataLoader(test_dataset, batch_size=16, shuffle=False)\n",
        "\n",
        "## Test Loaders ###\n",
        "for images, labels in train_dataloader:\n",
        "    print(images.shape)\n",
        "    print(labels)\n",
        "    break\n",
        "\n",
        "for images, labels in test_dataloader:\n",
        "    print(images.shape)\n",
        "    print(labels)\n",
        "    break\n"
      ],
      "metadata": {
        "colab": {
          "base_uri": "https://localhost:8080/"
        },
        "id": "xIJp7yIEPtNN",
        "outputId": "47b1c2f2-7011-4b8c-cd07-2054b90f35a9"
      },
      "execution_count": 29,
      "outputs": [
        {
          "output_type": "stream",
          "name": "stdout",
          "text": [
            "Train samples : 22464 , Test samples: 2497\n",
            "torch.Size([16, 3, 224, 224])\n",
            "tensor([0, 1, 1, 0, 1, 1, 0, 0, 0, 0, 1, 0, 0, 1, 0, 0])\n",
            "torch.Size([16, 3, 224, 224])\n",
            "tensor([1, 1, 1, 1, 0, 0, 1, 1, 0, 0, 1, 0, 0, 0, 1, 1])\n"
          ]
        }
      ]
    },
    {
      "cell_type": "code",
      "source": [],
      "metadata": {
        "id": "PbNk49DgSn6a"
      },
      "execution_count": null,
      "outputs": []
    }
  ]
}