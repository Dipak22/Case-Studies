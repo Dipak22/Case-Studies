{
  "nbformat": 4,
  "nbformat_minor": 0,
  "metadata": {
    "colab": {
      "provenance": [],
      "authorship_tag": "ABX9TyPw1nMM0QF3z54NrTVAQzWK",
      "include_colab_link": true
    },
    "kernelspec": {
      "name": "python3",
      "display_name": "Python 3"
    },
    "language_info": {
      "name": "python"
    }
  },
  "cells": [
    {
      "cell_type": "markdown",
      "metadata": {
        "id": "view-in-github",
        "colab_type": "text"
      },
      "source": [
        "<a href=\"https://colab.research.google.com/github/Dipak22/Case-Studies/blob/master/scratch_models_1.ipynb\" target=\"_parent\"><img src=\"https://colab.research.google.com/assets/colab-badge.svg\" alt=\"Open In Colab\"/></a>"
      ]
    },
    {
      "cell_type": "code",
      "execution_count": 2,
      "metadata": {
        "id": "lGcP3slWyV6D"
      },
      "outputs": [],
      "source": [
        "import numpy as np\n",
        "import pandas as pd\n",
        "from sklearn.linear_model import LinearRegression\n",
        "from sklearn.datasets import make_blobs\n",
        "from sklearn.manifold import TSNE\n",
        "from tqdm import tqdm\n",
        "import torch\n",
        "import torch.nn as nn\n",
        "import torch.optim as optim\n",
        "import torch.nn.functional as F\n",
        "import torchvision\n",
        "from torchvision import transforms\n",
        "import time\n",
        "import matplotlib.pyplot as plt"
      ]
    },
    {
      "cell_type": "code",
      "source": [
        "# sample function to check gradient\n",
        "x = torch.ones(2,2, requires_grad = True)\n",
        "y = x+2\n",
        "z = y**2 * 3\n",
        "z = z.mean()\n",
        "z.backward()\n",
        "print(\"Average grdient\")\n",
        "print(x.grad.sum())"
      ],
      "metadata": {
        "colab": {
          "base_uri": "https://localhost:8080/"
        },
        "id": "Z9nP_5dx8RDd",
        "outputId": "ae6b3ef5-3faa-41c9-9148-4e561c2aa7f1"
      },
      "execution_count": 3,
      "outputs": [
        {
          "output_type": "stream",
          "name": "stdout",
          "text": [
            "Average grdient\n",
            "tensor(18.)\n"
          ]
        }
      ]
    },
    {
      "cell_type": "code",
      "source": [
        "18/4"
      ],
      "metadata": {
        "colab": {
          "base_uri": "https://localhost:8080/"
        },
        "id": "eHeYjQI582Ky",
        "outputId": "db249e33-b913-44d5-946b-77d6ad44990b"
      },
      "execution_count": 4,
      "outputs": [
        {
          "output_type": "execute_result",
          "data": {
            "text/plain": [
              "4.5"
            ]
          },
          "metadata": {},
          "execution_count": 4
        }
      ]
    },
    {
      "cell_type": "code",
      "source": [
        "# create random data\n",
        "X = np.arange(0,10,0.5)\n",
        "epsilon= np.random.normal(0,0.5,len(X))\n",
        "y = (2 + 3*X)\n",
        "y,X"
      ],
      "metadata": {
        "colab": {
          "base_uri": "https://localhost:8080/"
        },
        "id": "1GROt5q59FCj",
        "outputId": "f6e15577-7faf-4071-d9a7-dd38177a1a28"
      },
      "execution_count": 5,
      "outputs": [
        {
          "output_type": "execute_result",
          "data": {
            "text/plain": [
              "(array([ 2. ,  3.5,  5. ,  6.5,  8. ,  9.5, 11. , 12.5, 14. , 15.5, 17. ,\n",
              "        18.5, 20. , 21.5, 23. , 24.5, 26. , 27.5, 29. , 30.5]),\n",
              " array([0. , 0.5, 1. , 1.5, 2. , 2.5, 3. , 3.5, 4. , 4.5, 5. , 5.5, 6. ,\n",
              "        6.5, 7. , 7.5, 8. , 8.5, 9. , 9.5]))"
            ]
          },
          "metadata": {},
          "execution_count": 5
        }
      ]
    },
    {
      "cell_type": "code",
      "source": [
        "plt.scatter(X,y, s=20)\n",
        "plt.title(\"Randomly generated data\")\n",
        "plt.show()"
      ],
      "metadata": {
        "colab": {
          "base_uri": "https://localhost:8080/",
          "height": 452
        },
        "id": "5JLST_dr9cEv",
        "outputId": "33db7cf0-46df-4e42-e362-10c03509f968"
      },
      "execution_count": 6,
      "outputs": [
        {
          "output_type": "display_data",
          "data": {
            "text/plain": [
              "<Figure size 640x480 with 1 Axes>"
            ],
            "image/png": "[encoded data removed]"
          },
          "metadata": {}
        }
      ]
    },
    {
      "cell_type": "code",
      "source": [
        "# do linear Regression from sklearn lib\n",
        "X, y = X.reshape(-1,1),y.reshape(-1,1)\n",
        "model = LinearRegression()\n",
        "model.fit(X,y)\n",
        "print(\"W_1:\", model.coef_[0][0])\n",
        "print(\"W_0:\", model.intercept_[0])"
      ],
      "metadata": {
        "colab": {
          "base_uri": "https://localhost:8080/"
        },
        "id": "0xVURwUt91Hn",
        "outputId": "cc7d1f02-25cf-479d-f018-4347750fa873"
      },
      "execution_count": 7,
      "outputs": [
        {
          "output_type": "stream",
          "name": "stdout",
          "text": [
            "W_1: 3.0000000000000004\n",
            "W_0: 1.9999999999999982\n"
          ]
        }
      ]
    },
    {
      "cell_type": "code",
      "source": [
        "#linear Regression using pytorch\n",
        "torch.seed()\n",
        "\n",
        "class SGDRegression(nn.Module):\n",
        "  def __init__(self):\n",
        "    super().__init__()\n",
        "    self.fc1 = nn.Linear(1,1)\n",
        "  def forward(self, x):\n",
        "    y = self.fc1(x)\n",
        "    return y\n",
        "\n",
        "model = SGDRegression()\n",
        "loss_fn = torch.nn.MSELoss()\n",
        "optimizer = torch.optim.SGD(model.parameters(), lr = 0.01)\n",
        "epochs = 5000\n",
        "X_train = torch.tensor(X, dtype = torch.float32)\n",
        "y_train = torch.tensor(y, dtype = torch.float32)"
      ],
      "metadata": {
        "id": "aj4shO3d-bhS"
      },
      "execution_count": 11,
      "outputs": []
    },
    {
      "cell_type": "code",
      "source": [
        "for name, param in model.named_parameters():\n",
        "  print(name, param)"
      ],
      "metadata": {
        "colab": {
          "base_uri": "https://localhost:8080/"
        },
        "id": "bZ56Jo-joESS",
        "outputId": "136183f6-562a-4a91-bbf0-d288f7fb6ecf"
      },
      "execution_count": 10,
      "outputs": [
        {
          "output_type": "stream",
          "name": "stdout",
          "text": [
            "fc1.weight Parameter containing:\n",
            "tensor([[-0.6517]], requires_grad=True)\n",
            "fc1.bias Parameter containing:\n",
            "tensor([-0.8737], requires_grad=True)\n"
          ]
        }
      ]
    },
    {
      "cell_type": "code",
      "source": [
        "losses = []\n",
        "\n",
        "for epoch in tqdm(range(epochs)):\n",
        "  y_pred = model(X_train)\n",
        "  loss = loss_fn(y_pred, y_train)\n",
        "  losses.append(loss.item())\n",
        "  optimizer.zero_grad()\n",
        "  loss.backward()\n",
        "  optimizer.step()\n",
        "  if epoch%100 ==0:\n",
        "    print(f\"Loss : {loss.item()}\")"
      ],
      "metadata": {
        "colab": {
          "base_uri": "https://localhost:8080/"
        },
        "collapsed": true,
        "id": "EiO7tw53oMJX",
        "outputId": "ebc4f03d-7980-46d2-80da-f882d6b95512"
      },
      "execution_count": 12,
      "outputs": [
        {
          "output_type": "stream",
          "name": "stderr",
          "text": [
            "  7%|▋         | 365/5000 [00:00<00:02, 1773.59it/s]"
          ]
        },
        {
          "output_type": "stream",
          "name": "stdout",
          "text": [
            "Loss : 168.46774291992188\n",
            "Loss : 0.18270167708396912\n",
            "Loss : 0.06364160776138306\n",
            "Loss : 0.02216862142086029\n"
          ]
        },
        {
          "output_type": "stream",
          "name": "stderr",
          "text": [
            "\r 11%|█         | 541/5000 [00:00<00:03, 1242.55it/s]"
          ]
        },
        {
          "output_type": "stream",
          "name": "stdout",
          "text": [
            "Loss : 0.0077221267856657505\n",
            "Loss : 0.0026898826472461224\n",
            "Loss : 0.0009369848412461579\n"
          ]
        },
        {
          "output_type": "stream",
          "name": "stderr",
          "text": [
            " 19%|█▉        | 971/5000 [00:00<00:02, 1364.99it/s]"
          ]
        },
        {
          "output_type": "stream",
          "name": "stdout",
          "text": [
            "Loss : 0.00032636779360473156\n",
            "Loss : 0.00011368464038241655\n",
            "Loss : 3.960395042668097e-05\n"
          ]
        },
        {
          "output_type": "stream",
          "name": "stderr",
          "text": [
            " 26%|██▌       | 1275/5000 [00:00<00:02, 1448.30it/s]"
          ]
        },
        {
          "output_type": "stream",
          "name": "stdout",
          "text": [
            "Loss : 1.3795275663142093e-05\n",
            "Loss : 4.80559401694336e-06\n",
            "Loss : 1.6745905213610968e-06\n",
            "Loss : 5.835689194100269e-07\n"
          ]
        },
        {
          "output_type": "stream",
          "name": "stderr",
          "text": [
            " 32%|███▏      | 1580/5000 [00:01<00:02, 1403.71it/s]"
          ]
        },
        {
          "output_type": "stream",
          "name": "stdout",
          "text": [
            "Loss : 2.034878434642451e-07\n",
            "Loss : 7.088137721211751e-08\n",
            "Loss : 2.4723982861019067e-08\n",
            "Loss : 8.595213429885007e-09\n"
          ]
        },
        {
          "output_type": "stream",
          "name": "stderr",
          "text": [
            " 41%|████      | 2032/5000 [00:01<00:02, 1459.74it/s]"
          ]
        },
        {
          "output_type": "stream",
          "name": "stdout",
          "text": [
            "Loss : 3.0291098518375748e-09\n",
            "Loss : 1.070088684329562e-09\n",
            "Loss : 3.7613362424693264e-10\n",
            "Loss : 1.5080629800490186e-10\n"
          ]
        },
        {
          "output_type": "stream",
          "name": "stderr",
          "text": [
            " 50%|████▉     | 2485/5000 [00:01<00:01, 1492.56it/s]"
          ]
        },
        {
          "output_type": "stream",
          "name": "stdout",
          "text": [
            "Loss : 4.440607950795261e-11\n",
            "Loss : 4.440607950795261e-11\n",
            "Loss : 4.440607950795261e-11\n",
            "Loss : 4.440607950795261e-11\n"
          ]
        },
        {
          "output_type": "stream",
          "name": "stderr",
          "text": [
            " 56%|█████▌    | 2797/5000 [00:01<00:01, 1520.70it/s]"
          ]
        },
        {
          "output_type": "stream",
          "name": "stdout",
          "text": [
            "Loss : 4.440607950795261e-11\n",
            "Loss : 4.440607950795261e-11\n",
            "Loss : 4.440607950795261e-11\n"
          ]
        },
        {
          "output_type": "stream",
          "name": "stderr",
          "text": [
            " 62%|██████▏   | 3091/5000 [00:02<00:01, 1370.04it/s]"
          ]
        },
        {
          "output_type": "stream",
          "name": "stdout",
          "text": [
            "Loss : 4.440607950795261e-11\n",
            "Loss : 4.440607950795261e-11\n",
            "Loss : 4.440607950795261e-11\n"
          ]
        },
        {
          "output_type": "stream",
          "name": "stderr",
          "text": [
            " 68%|██████▊   | 3375/5000 [00:02<00:01, 1389.48it/s]"
          ]
        },
        {
          "output_type": "stream",
          "name": "stdout",
          "text": [
            "Loss : 4.440607950795261e-11\n",
            "Loss : 4.440607950795261e-11\n",
            "Loss : 4.440607950795261e-11\n"
          ]
        },
        {
          "output_type": "stream",
          "name": "stderr",
          "text": [
            " 73%|███████▎  | 3663/5000 [00:02<00:00, 1402.94it/s]"
          ]
        },
        {
          "output_type": "stream",
          "name": "stdout",
          "text": [
            "Loss : 4.440607950795261e-11\n",
            "Loss : 4.440607950795261e-11\n",
            "Loss : 4.440607950795261e-11\n"
          ]
        },
        {
          "output_type": "stream",
          "name": "stderr",
          "text": [
            " 79%|███████▉  | 3945/5000 [00:02<00:00, 1391.26it/s]"
          ]
        },
        {
          "output_type": "stream",
          "name": "stdout",
          "text": [
            "Loss : 4.440607950795261e-11\n",
            "Loss : 4.440607950795261e-11\n",
            "Loss : 4.440607950795261e-11\n"
          ]
        },
        {
          "output_type": "stream",
          "name": "stderr",
          "text": [
            " 87%|████████▋ | 4362/5000 [00:03<00:00, 1343.21it/s]"
          ]
        },
        {
          "output_type": "stream",
          "name": "stdout",
          "text": [
            "Loss : 4.440607950795261e-11\n",
            "Loss : 4.440607950795261e-11\n",
            "Loss : 4.440607950795261e-11\n"
          ]
        },
        {
          "output_type": "stream",
          "name": "stderr",
          "text": [
            " 95%|█████████▌| 4766/5000 [00:03<00:00, 1704.75it/s]"
          ]
        },
        {
          "output_type": "stream",
          "name": "stdout",
          "text": [
            "Loss : 4.440607950795261e-11\n",
            "Loss : 4.440607950795261e-11\n",
            "Loss : 4.440607950795261e-11\n",
            "Loss : 4.440607950795261e-11\n",
            "Loss : 4.440607950795261e-11\n"
          ]
        },
        {
          "output_type": "stream",
          "name": "stderr",
          "text": [
            "\r100%|██████████| 5000/5000 [00:03<00:00, 1460.83it/s]"
          ]
        },
        {
          "output_type": "stream",
          "name": "stdout",
          "text": [
            "Loss : 4.440607950795261e-11\n"
          ]
        },
        {
          "output_type": "stream",
          "name": "stderr",
          "text": [
            "\n"
          ]
        }
      ]
    },
    {
      "cell_type": "code",
      "source": [
        "for name, param in model.named_parameters():\n",
        "  print(name, param)"
      ],
      "metadata": {
        "colab": {
          "base_uri": "https://localhost:8080/"
        },
        "id": "htRsxK1Bo2Zp",
        "outputId": "21648133-a591-4f96-8df2-233cbefde208"
      },
      "execution_count": 13,
      "outputs": [
        {
          "output_type": "stream",
          "name": "stdout",
          "text": [
            "fc1.weight Parameter containing:\n",
            "tensor([[3.0000]], requires_grad=True)\n",
            "fc1.bias Parameter containing:\n",
            "tensor([2.0000], requires_grad=True)\n"
          ]
        }
      ]
    },
    {
      "cell_type": "code",
      "source": [
        "#classification problem\n",
        "# create a sample classification data using sklearn.make_blobs\n",
        "\n",
        "centers = [[1,1], [-1,-1]]\n",
        "X, y = make_blobs(n_samples = 750,\n",
        "                  centers= centers,\n",
        "                  cluster_std = 0.8,\n",
        "                  random_state = 0)\n",
        "X.shape, y.shape"
      ],
      "metadata": {
        "colab": {
          "base_uri": "https://localhost:8080/"
        },
        "id": "x4I39HFVpBL4",
        "outputId": "68c28f9c-1b2b-4010-8cb2-e46125969a9a"
      },
      "execution_count": 14,
      "outputs": [
        {
          "output_type": "execute_result",
          "data": {
            "text/plain": [
              "((750, 2), (750,))"
            ]
          },
          "metadata": {},
          "execution_count": 14
        }
      ]
    },
    {
      "cell_type": "code",
      "source": [
        "plt.scatter(X[:,0], X[:,1], c= y)\n",
        "plt.title(\"Dummy classification Data\")\n",
        "plt.plot([-2,2],[2,-2],\"r\")\n",
        "plt.show()\n",
        "\n",
        "y = y.reshape(-1,1)"
      ],
      "metadata": {
        "colab": {
          "base_uri": "https://localhost:8080/",
          "height": 452
        },
        "id": "WeXhjGCKplO2",
        "outputId": "bb445627-94d7-4d34-c2b4-77c08072e679"
      },
      "execution_count": 17,
      "outputs": [
        {
          "output_type": "display_data",
          "data": {
            "text/plain": [
              "<Figure size 640x480 with 1 Axes>"
            ],
            "image/png": "[encoded data removed]"
          },
          "metadata": {}
        }
      ]
    },
    {
      "cell_type": "code",
      "source": [
        "y.shape"
      ],
      "metadata": {
        "colab": {
          "base_uri": "https://localhost:8080/"
        },
        "id": "yV5JSy79pyxR",
        "outputId": "d9ab3127-731e-4132-83e1-e07b4cf4c191"
      },
      "execution_count": 18,
      "outputs": [
        {
          "output_type": "execute_result",
          "data": {
            "text/plain": [
              "(750, 1)"
            ]
          },
          "metadata": {},
          "execution_count": 18
        }
      ]
    },
    {
      "cell_type": "code",
      "source": [
        "#pytorch model\n",
        "torch.seed()\n",
        "\n",
        "class LogisticRegression(nn.Module):\n",
        "  def __init__(self):\n",
        "    super().__init__()\n",
        "    self.fc1 = nn.Linear(2,1)\n",
        "  def forward(self, x):\n",
        "    y = torch.sigmoid(self.fc1(x))\n",
        "    return y\n",
        "\n",
        "model = LogisticRegression()\n",
        "loss_fn = torch.nn.BCELoss()\n",
        "optimizer = torch.optim.SGD(model.parameters(), lr = 0.01)\n",
        "epochs = 5000\n",
        "\n",
        "X_train = torch.tensor(X, dtype = torch.float32)\n",
        "y_train = torch.tensor(y, dtype = torch.float32)"
      ],
      "metadata": {
        "id": "rIb2HZo4qEQr"
      },
      "execution_count": 21,
      "outputs": []
    },
    {
      "cell_type": "code",
      "source": [
        "losses = []\n",
        "for epoch in range(epochs):\n",
        "  y_pred = model(X_train)\n",
        "  loss = loss_fn(y_pred, y_train)\n",
        "  losses.append(loss.item())\n",
        "\n",
        "  optimizer.zero_grad()\n",
        "  loss.backward()\n",
        "  optimizer.step()\n",
        "  if epoch%100 ==0:\n",
        "    print(f\"epoch: {epoch} loss:{loss.item():.3f}\")"
      ],
      "metadata": {
        "colab": {
          "base_uri": "https://localhost:8080/"
        },
        "id": "RoFNo2UssgNE",
        "outputId": "21f36f46-ba32-40bf-b3b0-a609a12db2d3"
      },
      "execution_count": 22,
      "outputs": [
        {
          "output_type": "stream",
          "name": "stdout",
          "text": [
            "epoch: 0 loss:0.760\n",
            "epoch: 100 loss:0.442\n",
            "epoch: 200 loss:0.326\n",
            "epoch: 300 loss:0.269\n",
            "epoch: 400 loss:0.235\n",
            "epoch: 500 loss:0.212\n",
            "epoch: 600 loss:0.196\n",
            "epoch: 700 loss:0.184\n",
            "epoch: 800 loss:0.174\n",
            "epoch: 900 loss:0.166\n",
            "epoch: 1000 loss:0.159\n",
            "epoch: 1100 loss:0.154\n",
            "epoch: 1200 loss:0.149\n",
            "epoch: 1300 loss:0.145\n",
            "epoch: 1400 loss:0.141\n",
            "epoch: 1500 loss:0.138\n",
            "epoch: 1600 loss:0.135\n",
            "epoch: 1700 loss:0.133\n",
            "epoch: 1800 loss:0.131\n",
            "epoch: 1900 loss:0.128\n",
            "epoch: 2000 loss:0.126\n",
            "epoch: 2100 loss:0.125\n",
            "epoch: 2200 loss:0.123\n",
            "epoch: 2300 loss:0.122\n",
            "epoch: 2400 loss:0.120\n",
            "epoch: 2500 loss:0.119\n",
            "epoch: 2600 loss:0.118\n",
            "epoch: 2700 loss:0.117\n",
            "epoch: 2800 loss:0.116\n",
            "epoch: 2900 loss:0.115\n",
            "epoch: 3000 loss:0.114\n",
            "epoch: 3100 loss:0.113\n",
            "epoch: 3200 loss:0.112\n",
            "epoch: 3300 loss:0.111\n",
            "epoch: 3400 loss:0.110\n",
            "epoch: 3500 loss:0.110\n",
            "epoch: 3600 loss:0.109\n",
            "epoch: 3700 loss:0.108\n",
            "epoch: 3800 loss:0.108\n",
            "epoch: 3900 loss:0.107\n",
            "epoch: 4000 loss:0.107\n",
            "epoch: 4100 loss:0.106\n",
            "epoch: 4200 loss:0.106\n",
            "epoch: 4300 loss:0.105\n",
            "epoch: 4400 loss:0.105\n",
            "epoch: 4500 loss:0.104\n",
            "epoch: 4600 loss:0.104\n",
            "epoch: 4700 loss:0.103\n",
            "epoch: 4800 loss:0.103\n",
            "epoch: 4900 loss:0.103\n"
          ]
        }
      ]
    },
    {
      "cell_type": "code",
      "source": [
        "accuracy = torch.sum((y_pred>0.5).int()== y_train)/len(y_train)\n",
        "accuracy"
      ],
      "metadata": {
        "colab": {
          "base_uri": "https://localhost:8080/"
        },
        "id": "oiEjRnv8tThO",
        "outputId": "de4e5f5e-d813-40d7-c2a6-988b30ed6ac8"
      },
      "execution_count": 23,
      "outputs": [
        {
          "output_type": "execute_result",
          "data": {
            "text/plain": [
              "tensor(0.9667)"
            ]
          },
          "metadata": {},
          "execution_count": 23
        }
      ]
    },
    {
      "cell_type": "code",
      "source": [],
      "metadata": {
        "id": "Hlswobqrtxup"
      },
      "execution_count": null,
      "outputs": []
    }
  ]
}