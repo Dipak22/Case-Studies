{
  "nbformat": 4,
  "nbformat_minor": 0,
  "metadata": {
    "colab": {
      "provenance": [],
      "gpuType": "T4",
      "authorship_tag": "ABX9TyN5C+q6eVKO7wuC8Zdi135Z",
      "include_colab_link": true
    },
    "kernelspec": {
      "name": "python3",
      "display_name": "Python 3"
    },
    "language_info": {
      "name": "python"
    },
    "accelerator": "GPU"
  },
  "cells": [
    {
      "cell_type": "markdown",
      "metadata": {
        "id": "view-in-github",
        "colab_type": "text"
      },
      "source": [
        "<a href=\"https://colab.research.google.com/github/Dipak22/Case-Studies/blob/master/Transfer_learning.ipynb\" target=\"_parent\"><img src=\"https://colab.research.google.com/assets/colab-badge.svg\" alt=\"Open In Colab\"/></a>"
      ]
    },
    {
      "cell_type": "markdown",
      "source": [
        "## Import classes and functions"
      ],
      "metadata": {
        "id": "wODRPBYigtt2"
      }
    },
    {
      "cell_type": "code",
      "execution_count": 1,
      "metadata": {
        "id": "wDqntvxZeO1a"
      },
      "outputs": [],
      "source": [
        "import torch\n",
        "import torch.nn as nn\n",
        "import torch.optim as optim\n",
        "from torchvision.models import AlexNet, AlexNet_Weights\n",
        "from torchvision import transforms\n",
        "from torch.utils.data import Dataset, DataLoader\n",
        "from torchvision.datasets import ImageFolder\n",
        "from tqdm import tqdm\n",
        "import numpy as np\n",
        "\n",
        "import warnings\n",
        "warnings.filterwarnings(\"ignore\")"
      ]
    },
    {
      "cell_type": "code",
      "source": [
        "import kagglehub\n",
        "\n",
        "# Download latest version\n",
        "path = kagglehub.dataset_download(\"karakaggle/kaggle-cat-vs-dog-dataset\")\n",
        "\n",
        "print(\"Path to dataset files:\", path)"
      ],
      "metadata": {
        "colab": {
          "base_uri": "https://localhost:8080/"
        },
        "id": "5cuGkS2mhLkf",
        "outputId": "678b5183-f2cf-405a-9cd8-190033d90613"
      },
      "execution_count": 2,
      "outputs": [
        {
          "output_type": "stream",
          "name": "stdout",
          "text": [
            "Path to dataset files: /kaggle/input/kaggle-cat-vs-dog-dataset\n"
          ]
        }
      ]
    },
    {
      "cell_type": "code",
      "source": [
        "PATH_TO_DATA = path +\"/kagglecatsanddogs_3367a/PetImages/\"\n",
        "normalizer = transforms.Normalize(mean=[0.485,0.456,0.406], std=[0.229,0.224,0.225])\n",
        "train_transforms = transforms.Compose([\n",
        "    transforms.Resize((224,224)),\n",
        "    transforms.RandomHorizontalFlip(p=0.5),\n",
        "    transforms.ToTensor(),\n",
        "    normalizer\n",
        "                                 ])\n",
        "dataset = ImageFolder(PATH_TO_DATA, transform=train_transforms)\n",
        "train_samples, test_samples = int(0.9 * len(dataset)), len(dataset) - int(0.9 * len(dataset))\n",
        "train_dataset, val_dataset = torch.utils.data.random_split(dataset, lengths = [train_samples, test_samples])"
      ],
      "metadata": {
        "id": "8D6IWnrKhQIo"
      },
      "execution_count": 3,
      "outputs": []
    },
    {
      "cell_type": "markdown",
      "source": [
        "##Load model"
      ],
      "metadata": {
        "id": "turTHontiXbe"
      }
    },
    {
      "cell_type": "code",
      "source": [
        "model = AlexNet()\n",
        "print(model)"
      ],
      "metadata": {
        "colab": {
          "base_uri": "https://localhost:8080/"
        },
        "id": "5ffqZoGciN3w",
        "outputId": "1da3076b-d580-4888-9f95-a2123df6740b"
      },
      "execution_count": 4,
      "outputs": [
        {
          "output_type": "stream",
          "name": "stdout",
          "text": [
            "AlexNet(\n",
            "  (features): Sequential(\n",
            "    (0): Conv2d(3, 64, kernel_size=(11, 11), stride=(4, 4), padding=(2, 2))\n",
            "    (1): ReLU(inplace=True)\n",
            "    (2): MaxPool2d(kernel_size=3, stride=2, padding=0, dilation=1, ceil_mode=False)\n",
            "    (3): Conv2d(64, 192, kernel_size=(5, 5), stride=(1, 1), padding=(2, 2))\n",
            "    (4): ReLU(inplace=True)\n",
            "    (5): MaxPool2d(kernel_size=3, stride=2, padding=0, dilation=1, ceil_mode=False)\n",
            "    (6): Conv2d(192, 384, kernel_size=(3, 3), stride=(1, 1), padding=(1, 1))\n",
            "    (7): ReLU(inplace=True)\n",
            "    (8): Conv2d(384, 256, kernel_size=(3, 3), stride=(1, 1), padding=(1, 1))\n",
            "    (9): ReLU(inplace=True)\n",
            "    (10): Conv2d(256, 256, kernel_size=(3, 3), stride=(1, 1), padding=(1, 1))\n",
            "    (11): ReLU(inplace=True)\n",
            "    (12): MaxPool2d(kernel_size=3, stride=2, padding=0, dilation=1, ceil_mode=False)\n",
            "  )\n",
            "  (avgpool): AdaptiveAvgPool2d(output_size=(6, 6))\n",
            "  (classifier): Sequential(\n",
            "    (0): Dropout(p=0.5, inplace=False)\n",
            "    (1): Linear(in_features=9216, out_features=4096, bias=True)\n",
            "    (2): ReLU(inplace=True)\n",
            "    (3): Dropout(p=0.5, inplace=False)\n",
            "    (4): Linear(in_features=4096, out_features=4096, bias=True)\n",
            "    (5): ReLU(inplace=True)\n",
            "    (6): Linear(in_features=4096, out_features=1000, bias=True)\n",
            "  )\n",
            ")\n"
          ]
        }
      ]
    },
    {
      "cell_type": "code",
      "source": [
        "model.classifier[1]"
      ],
      "metadata": {
        "colab": {
          "base_uri": "https://localhost:8080/"
        },
        "id": "iCxcQa35id0o",
        "outputId": "92228a4a-5fba-45a6-83a3-d482299f5fd1"
      },
      "execution_count": 5,
      "outputs": [
        {
          "output_type": "execute_result",
          "data": {
            "text/plain": [
              "Linear(in_features=9216, out_features=4096, bias=True)"
            ]
          },
          "metadata": {},
          "execution_count": 5
        }
      ]
    },
    {
      "cell_type": "markdown",
      "source": [
        "## update model to change output 2 logits instead of 1000"
      ],
      "metadata": {
        "id": "yfbcx7HHi1pe"
      }
    },
    {
      "cell_type": "code",
      "source": [
        "model = AlexNet()\n",
        "model.classifier[6] = nn.Linear(in_features=4096, out_features=2, bias=True)\n",
        "model"
      ],
      "metadata": {
        "colab": {
          "base_uri": "https://localhost:8080/"
        },
        "id": "O8NYlmGTipmQ",
        "outputId": "b81a0873-4101-4f44-949f-c86ec5e61551"
      },
      "execution_count": 6,
      "outputs": [
        {
          "output_type": "execute_result",
          "data": {
            "text/plain": [
              "AlexNet(\n",
              "  (features): Sequential(\n",
              "    (0): Conv2d(3, 64, kernel_size=(11, 11), stride=(4, 4), padding=(2, 2))\n",
              "    (1): ReLU(inplace=True)\n",
              "    (2): MaxPool2d(kernel_size=3, stride=2, padding=0, dilation=1, ceil_mode=False)\n",
              "    (3): Conv2d(64, 192, kernel_size=(5, 5), stride=(1, 1), padding=(2, 2))\n",
              "    (4): ReLU(inplace=True)\n",
              "    (5): MaxPool2d(kernel_size=3, stride=2, padding=0, dilation=1, ceil_mode=False)\n",
              "    (6): Conv2d(192, 384, kernel_size=(3, 3), stride=(1, 1), padding=(1, 1))\n",
              "    (7): ReLU(inplace=True)\n",
              "    (8): Conv2d(384, 256, kernel_size=(3, 3), stride=(1, 1), padding=(1, 1))\n",
              "    (9): ReLU(inplace=True)\n",
              "    (10): Conv2d(256, 256, kernel_size=(3, 3), stride=(1, 1), padding=(1, 1))\n",
              "    (11): ReLU(inplace=True)\n",
              "    (12): MaxPool2d(kernel_size=3, stride=2, padding=0, dilation=1, ceil_mode=False)\n",
              "  )\n",
              "  (avgpool): AdaptiveAvgPool2d(output_size=(6, 6))\n",
              "  (classifier): Sequential(\n",
              "    (0): Dropout(p=0.5, inplace=False)\n",
              "    (1): Linear(in_features=9216, out_features=4096, bias=True)\n",
              "    (2): ReLU(inplace=True)\n",
              "    (3): Dropout(p=0.5, inplace=False)\n",
              "    (4): Linear(in_features=4096, out_features=4096, bias=True)\n",
              "    (5): ReLU(inplace=True)\n",
              "    (6): Linear(in_features=4096, out_features=2, bias=True)\n",
              "  )\n",
              ")"
            ]
          },
          "metadata": {},
          "execution_count": 6
        }
      ]
    },
    {
      "cell_type": "markdown",
      "source": [
        "### test with dummy data"
      ],
      "metadata": {
        "id": "idNL7FAjjHHC"
      }
    },
    {
      "cell_type": "code",
      "source": [
        "rand_data = torch.rand(16, 3, 224, 224)\n",
        "model_output = model(rand_data)\n",
        "model_output.shape"
      ],
      "metadata": {
        "colab": {
          "base_uri": "https://localhost:8080/"
        },
        "id": "l-G_Iv31jATQ",
        "outputId": "9df0aac5-6471-48d6-b4f7-fce21dc9b91a"
      },
      "execution_count": 7,
      "outputs": [
        {
          "output_type": "execute_result",
          "data": {
            "text/plain": [
              "torch.Size([16, 2])"
            ]
          },
          "metadata": {},
          "execution_count": 7
        }
      ]
    },
    {
      "cell_type": "markdown",
      "source": [
        "### count total parameters"
      ],
      "metadata": {
        "id": "pBcPbnvmjkUs"
      }
    },
    {
      "cell_type": "code",
      "source": [
        "total_parameters = 0\n",
        "for name, param in model.named_parameters():\n",
        "  num_params = int(torch.prod(torch.tensor(param.shape)))\n",
        "  print(f\"name: {name} , shape: {param.shape} , num_params : {num_params}\")\n",
        "  total_parameters +=num_params\n",
        "print(\"--------------------------\")\n",
        "print(f\"Total params: {total_parameters}\")"
      ],
      "metadata": {
        "colab": {
          "base_uri": "https://localhost:8080/"
        },
        "id": "SZqNT8zgjUUf",
        "outputId": "e01e4e21-e8b1-479b-a209-da6d2c5431d0"
      },
      "execution_count": 8,
      "outputs": [
        {
          "output_type": "stream",
          "name": "stdout",
          "text": [
            "name: features.0.weight , shape: torch.Size([64, 3, 11, 11]) , num_params : 23232\n",
            "name: features.0.bias , shape: torch.Size([64]) , num_params : 64\n",
            "name: features.3.weight , shape: torch.Size([192, 64, 5, 5]) , num_params : 307200\n",
            "name: features.3.bias , shape: torch.Size([192]) , num_params : 192\n",
            "name: features.6.weight , shape: torch.Size([384, 192, 3, 3]) , num_params : 663552\n",
            "name: features.6.bias , shape: torch.Size([384]) , num_params : 384\n",
            "name: features.8.weight , shape: torch.Size([256, 384, 3, 3]) , num_params : 884736\n",
            "name: features.8.bias , shape: torch.Size([256]) , num_params : 256\n",
            "name: features.10.weight , shape: torch.Size([256, 256, 3, 3]) , num_params : 589824\n",
            "name: features.10.bias , shape: torch.Size([256]) , num_params : 256\n",
            "name: classifier.1.weight , shape: torch.Size([4096, 9216]) , num_params : 37748736\n",
            "name: classifier.1.bias , shape: torch.Size([4096]) , num_params : 4096\n",
            "name: classifier.4.weight , shape: torch.Size([4096, 4096]) , num_params : 16777216\n",
            "name: classifier.4.bias , shape: torch.Size([4096]) , num_params : 4096\n",
            "name: classifier.6.weight , shape: torch.Size([2, 4096]) , num_params : 8192\n",
            "name: classifier.6.bias , shape: torch.Size([2]) , num_params : 2\n",
            "--------------------------\n",
            "Total params: 57012034\n"
          ]
        }
      ]
    },
    {
      "cell_type": "markdown",
      "source": [
        "## Let's train this model which is randomly initialized from scratch"
      ],
      "metadata": {
        "id": "wKhGsvNukPM0"
      }
    },
    {
      "cell_type": "code",
      "source": [
        "device = \"cuda\" if torch.cuda.is_available() else \"cpu\"\n",
        "print(f\"Training on device: {device}\")\n",
        "\n",
        "# define model\n",
        "model = AlexNet()\n",
        "model.classifier[6] = nn.Linear(4096,2)\n",
        "model = model.to(device)\n",
        "\n",
        "#hyper parameters\n",
        "epochs = 5\n",
        "optimizer  = optim.Adam(model.parameters(), lr=0.001)\n",
        "loss_fn = nn.CrossEntropyLoss()\n",
        "batch_size = 128\n",
        "\n",
        "## Build dataloaders\n",
        "trainloader = DataLoader(train_dataset,\n",
        "                         batch_size=batch_size,\n",
        "                         shuffle = True,\n",
        "                         num_workers=4)\n",
        "valloader = DataLoader(val_dataset,\n",
        "                       batch_size=batch_size,\n",
        "                       shuffle=False,\n",
        "                       num_workers=4)\n"
      ],
      "metadata": {
        "colab": {
          "base_uri": "https://localhost:8080/"
        },
        "id": "HiomthXOj_p-",
        "outputId": "5255f2f2-9f8b-4e47-8d14-bd5029f97643"
      },
      "execution_count": 9,
      "outputs": [
        {
          "output_type": "stream",
          "name": "stdout",
          "text": [
            "Training on device: cuda\n"
          ]
        }
      ]
    },
    {
      "cell_type": "markdown",
      "source": [
        "### train function"
      ],
      "metadata": {
        "id": "wwixTQ1slaXt"
      }
    },
    {
      "cell_type": "code",
      "source": [
        "def train(model, device, epochs, optimizer, loss_fn, batch_size, trainloader, valloader):\n",
        "  log_training = {\"epoch\":[],\n",
        "                  \"training_loss\": [],\n",
        "                  \"training_acc\":[],\n",
        "                  \"validation_loss\":[],\n",
        "                  \"validation_acc\":[]}\n",
        "  for epoch in range(1, epochs+1):\n",
        "    training_losses ,training_accuracies = [],[]\n",
        "    validation_losses, validation_accuracies= [],[]\n",
        "    model.train()\n",
        "    for image, label in tqdm(trainloader):\n",
        "      image, label = image.to(device), label.to(device)\n",
        "      optimizer.zero_grad()\n",
        "      out = model.forward(image)\n",
        "      #calcualte loss\n",
        "      loss = loss_fn(out, label)\n",
        "      training_losses.append(loss.item())\n",
        "\n",
        "      #calculate accuracy\n",
        "      predictions = torch.argmax(out, dim=1)\n",
        "      accuracy = (predictions==label).sum()/len(predictions)\n",
        "      training_accuracies.append(accuracy.item())\n",
        "      loss.backward()\n",
        "      optimizer.step()\n",
        "\n",
        "    model.eval()\n",
        "    with torch.inference_mode():\n",
        "      for image, label in tqdm(valloader):\n",
        "        image, label = image.to(device), label.to(device)\n",
        "        out = model.forward(image)\n",
        "        #calculate loss\n",
        "        loss = loss_fn(out, label)\n",
        "        validation_losses.append(loss.item())\n",
        "\n",
        "        #calculate accuracy\n",
        "        predictions = torch.argmax(out, dim=1)\n",
        "        accuracy = (predictions==label).sum()/len(predictions)\n",
        "        validation_accuracies.append(accuracy.item())\n",
        "    training_loss_mean, training_acc_mean = np.mean(training_losses), np.mean(training_accuracies)\n",
        "    valid_loss_mean, valid_acc_mean = np.mean(validation_losses), np.mean(validation_accuracies)\n",
        "\n",
        "    log_training[\"epoch\"].append(epoch)\n",
        "    log_training[\"training_loss\"].append(training_loss_mean)\n",
        "    log_training[\"training_acc\"].append(training_acc_mean)\n",
        "    log_training[\"validation_loss\"].append(valid_loss_mean)\n",
        "    log_training[\"validation_acc\"].append(valid_acc_mean)\n",
        "\n",
        "    print(\"Training Loss:\", training_loss_mean)\n",
        "    print(\"Training Acc:\", training_acc_mean)\n",
        "    print(\"Validation Loss:\", valid_loss_mean)\n",
        "    print(\"Validation Acc:\", valid_acc_mean)\n",
        "  return log_training, model"
      ],
      "metadata": {
        "id": "aueEBd1GlUu2"
      },
      "execution_count": 10,
      "outputs": []
    },
    {
      "cell_type": "code",
      "source": [
        "random_init_logs, model = train(model=model,\n",
        "                                device=device,\n",
        "                                epochs=epochs,\n",
        "                                optimizer=optimizer,\n",
        "                                loss_fn=loss_fn,\n",
        "                                batch_size=batch_size,\n",
        "                                trainloader=trainloader,\n",
        "                                valloader=valloader)"
      ],
      "metadata": {
        "colab": {
          "base_uri": "https://localhost:8080/",
          "height": 600
        },
        "id": "rGRsWE2soANQ",
        "outputId": "4375fe27-bec5-4b4c-ac70-990331508d14"
      },
      "execution_count": 11,
      "outputs": [
        {
          "output_type": "stream",
          "name": "stderr",
          "text": [
            "100%|██████████| 176/176 [01:38<00:00,  1.79it/s]\n",
            "100%|██████████| 20/20 [00:11<00:00,  1.74it/s]\n"
          ]
        },
        {
          "output_type": "stream",
          "name": "stdout",
          "text": [
            "Training Loss: 0.7107659906826236\n",
            "Training Acc: 0.5541668077084151\n",
            "Validation Loss: 0.6372773677110672\n",
            "Validation Acc: 0.651171875\n"
          ]
        },
        {
          "output_type": "stream",
          "name": "stderr",
          "text": [
            "100%|██████████| 176/176 [01:19<00:00,  2.20it/s]\n",
            "100%|██████████| 20/20 [00:09<00:00,  2.09it/s]\n"
          ]
        },
        {
          "output_type": "stream",
          "name": "stdout",
          "text": [
            "Training Loss: 0.6217928317121484\n",
            "Training Acc: 0.6576021093536507\n",
            "Validation Loss: 0.6067684471607209\n",
            "Validation Acc: 0.655859375\n"
          ]
        },
        {
          "output_type": "stream",
          "name": "stderr",
          "text": [
            " 24%|██▍       | 43/176 [00:21<01:05,  2.04it/s]\n"
          ]
        },
        {
          "output_type": "error",
          "ename": "KeyboardInterrupt",
          "evalue": "",
          "traceback": [
            "\u001b[0;31m---------------------------------------------------------------------------\u001b[0m",
            "\u001b[0;31mKeyboardInterrupt\u001b[0m                         Traceback (most recent call last)",
            "\u001b[0;32m<ipython-input-11-95d891a7b48b>\u001b[0m in \u001b[0;36m<cell line: 0>\u001b[0;34m()\u001b[0m\n\u001b[0;32m----> 1\u001b[0;31m random_init_logs, model = train(model=model,\n\u001b[0m\u001b[1;32m      2\u001b[0m                                 \u001b[0mdevice\u001b[0m\u001b[0;34m=\u001b[0m\u001b[0mdevice\u001b[0m\u001b[0;34m,\u001b[0m\u001b[0;34m\u001b[0m\u001b[0;34m\u001b[0m\u001b[0m\n\u001b[1;32m      3\u001b[0m                                 \u001b[0mepochs\u001b[0m\u001b[0;34m=\u001b[0m\u001b[0mepochs\u001b[0m\u001b[0;34m,\u001b[0m\u001b[0;34m\u001b[0m\u001b[0;34m\u001b[0m\u001b[0m\n\u001b[1;32m      4\u001b[0m                                 \u001b[0moptimizer\u001b[0m\u001b[0;34m=\u001b[0m\u001b[0moptimizer\u001b[0m\u001b[0;34m,\u001b[0m\u001b[0;34m\u001b[0m\u001b[0;34m\u001b[0m\u001b[0m\n\u001b[1;32m      5\u001b[0m                                 \u001b[0mloss_fn\u001b[0m\u001b[0;34m=\u001b[0m\u001b[0mloss_fn\u001b[0m\u001b[0;34m,\u001b[0m\u001b[0;34m\u001b[0m\u001b[0;34m\u001b[0m\u001b[0m\n",
            "\u001b[0;32m<ipython-input-10-7d09e98c2ff7>\u001b[0m in \u001b[0;36mtrain\u001b[0;34m(model, device, epochs, optimizer, loss_fn, batch_size, trainloader, valloader)\u001b[0m\n\u001b[1;32m     10\u001b[0m     \u001b[0mmodel\u001b[0m\u001b[0;34m.\u001b[0m\u001b[0mtrain\u001b[0m\u001b[0;34m(\u001b[0m\u001b[0;34m)\u001b[0m\u001b[0;34m\u001b[0m\u001b[0;34m\u001b[0m\u001b[0m\n\u001b[1;32m     11\u001b[0m     \u001b[0;32mfor\u001b[0m \u001b[0mimage\u001b[0m\u001b[0;34m,\u001b[0m \u001b[0mlabel\u001b[0m \u001b[0;32min\u001b[0m \u001b[0mtqdm\u001b[0m\u001b[0;34m(\u001b[0m\u001b[0mtrainloader\u001b[0m\u001b[0;34m)\u001b[0m\u001b[0;34m:\u001b[0m\u001b[0;34m\u001b[0m\u001b[0;34m\u001b[0m\u001b[0m\n\u001b[0;32m---> 12\u001b[0;31m       \u001b[0mimage\u001b[0m\u001b[0;34m,\u001b[0m \u001b[0mlabel\u001b[0m \u001b[0;34m=\u001b[0m \u001b[0mimage\u001b[0m\u001b[0;34m.\u001b[0m\u001b[0mto\u001b[0m\u001b[0;34m(\u001b[0m\u001b[0mdevice\u001b[0m\u001b[0;34m)\u001b[0m\u001b[0;34m,\u001b[0m \u001b[0mlabel\u001b[0m\u001b[0;34m.\u001b[0m\u001b[0mto\u001b[0m\u001b[0;34m(\u001b[0m\u001b[0mdevice\u001b[0m\u001b[0;34m)\u001b[0m\u001b[0;34m\u001b[0m\u001b[0;34m\u001b[0m\u001b[0m\n\u001b[0m\u001b[1;32m     13\u001b[0m       \u001b[0moptimizer\u001b[0m\u001b[0;34m.\u001b[0m\u001b[0mzero_grad\u001b[0m\u001b[0;34m(\u001b[0m\u001b[0;34m)\u001b[0m\u001b[0;34m\u001b[0m\u001b[0;34m\u001b[0m\u001b[0m\n\u001b[1;32m     14\u001b[0m       \u001b[0mout\u001b[0m \u001b[0;34m=\u001b[0m \u001b[0mmodel\u001b[0m\u001b[0;34m.\u001b[0m\u001b[0mforward\u001b[0m\u001b[0;34m(\u001b[0m\u001b[0mimage\u001b[0m\u001b[0;34m)\u001b[0m\u001b[0;34m\u001b[0m\u001b[0;34m\u001b[0m\u001b[0m\n",
            "\u001b[0;31mKeyboardInterrupt\u001b[0m: "
          ]
        }
      ]
    },
    {
      "cell_type": "code",
      "source": [
        "for image, label in trainloader:\n",
        "  print(image.shape)\n",
        "  print(label.shape)\n",
        "  break"
      ],
      "metadata": {
        "colab": {
          "base_uri": "https://localhost:8080/"
        },
        "id": "8cdj17HFoDz7",
        "outputId": "4e4c795c-5ec5-4402-ed5b-895736472daa"
      },
      "execution_count": 12,
      "outputs": [
        {
          "output_type": "stream",
          "name": "stdout",
          "text": [
            "torch.Size([128, 3, 224, 224])\n",
            "torch.Size([128])\n"
          ]
        }
      ]
    },
    {
      "cell_type": "code",
      "source": [
        "model = torch.hub.load('pytorch/vision:v0.10.0', 'alexnet', pretrained=True)\n",
        "model.classifier[6] = nn.Linear(4096, 2)\n",
        "\n",
        "# Check the name of all the parameters\n",
        "for name, param in model.named_parameters():\n",
        "    if \"classifier.6\" not in name:\n",
        "        param.requires_grad_(False) # Inplace turn of gradient updates\n",
        "\n",
        "model = model.to(device)\n",
        "\n",
        "### MODEL TRAINING INPUTS ###\n",
        "epochs = 2\n",
        "optimizer = optim.Adam(params=model.parameters(), lr=0.0001)\n",
        "loss_fn = nn.CrossEntropyLoss()\n",
        "batch_size = 128\n",
        "\n",
        "### BUILD DATALOADERS ###\n",
        "trainloader = DataLoader(train_dataset, batch_size=batch_size, shuffle=True, num_workers=4)\n",
        "valloader = DataLoader(val_dataset, batch_size=batch_size, shuffle=False, num_workers=4)\n",
        "\n",
        "\n",
        "random_init_logs, model = train(model=model,\n",
        "                                device=device,\n",
        "                                epochs=epochs,\n",
        "                                optimizer=optimizer,\n",
        "                                loss_fn=loss_fn,\n",
        "                                batch_size=batch_size,\n",
        "                                trainloader=trainloader,\n",
        "                                valloader=valloader)"
      ],
      "metadata": {
        "colab": {
          "base_uri": "https://localhost:8080/"
        },
        "id": "bdJces2DpdwY",
        "outputId": "9616fbd2-4246-48b0-c88e-a49efd417e1a"
      },
      "execution_count": 15,
      "outputs": [
        {
          "output_type": "stream",
          "name": "stderr",
          "text": [
            "Using cache found in /root/.cache/torch/hub/pytorch_vision_v0.10.0\n",
            "100%|██████████| 176/176 [01:21<00:00,  2.16it/s]\n",
            "100%|██████████| 20/20 [00:09<00:00,  2.14it/s]\n"
          ]
        },
        {
          "output_type": "stream",
          "name": "stdout",
          "text": [
            "Training Loss: 0.22385637703436342\n",
            "Training Acc: 0.9072181077843363\n",
            "Validation Loss: 0.12616125158965588\n",
            "Validation Acc: 0.954296875\n"
          ]
        },
        {
          "output_type": "stream",
          "name": "stderr",
          "text": [
            "100%|██████████| 176/176 [01:21<00:00,  2.15it/s]\n",
            "100%|██████████| 20/20 [00:09<00:00,  2.20it/s]"
          ]
        },
        {
          "output_type": "stream",
          "name": "stdout",
          "text": [
            "Training Loss: 0.13120953146029601\n",
            "Training Acc: 0.9497887641191483\n",
            "Validation Loss: 0.10557032823562622\n",
            "Validation Acc: 0.9625\n"
          ]
        },
        {
          "output_type": "stream",
          "name": "stderr",
          "text": [
            "\n"
          ]
        }
      ]
    },
    {
      "cell_type": "code",
      "source": [],
      "metadata": {
        "id": "yWh5HzOFppPL"
      },
      "execution_count": null,
      "outputs": []
    }
  ]
}