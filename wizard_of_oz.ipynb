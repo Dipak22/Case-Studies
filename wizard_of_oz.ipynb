{
 "cells": [
  {
   "cell_type": "code",
   "execution_count": 1,
   "id": "880912f1-9d42-4bae-98c9-2e0753fceefd",
   "metadata": {},
   "outputs": [],
   "source": [
    "import torch"
   ]
  },
  {
   "cell_type": "code",
   "execution_count": 4,
   "id": "21f80ad0-93b0-4dba-8e45-e266dfdbf41e",
   "metadata": {},
   "outputs": [
    {
     "data": {
      "text/plain": [
       "True"
      ]
     },
     "execution_count": 4,
     "metadata": {},
     "output_type": "execute_result"
    }
   ],
   "source": [
    "torch.cuda.is_available()"
   ]
  },
  {
   "cell_type": "code",
   "execution_count": 6,
   "id": "8bc19ac8-afd8-42ee-bdeb-e6ead6424a2b",
   "metadata": {},
   "outputs": [
    {
     "data": {
      "text/plain": [
       "227076"
      ]
     },
     "execution_count": 6,
     "metadata": {},
     "output_type": "execute_result"
    }
   ],
   "source": [
    "with open('wizard_of_oz.txt','r', encoding='utf-8') as f:\n",
    "    text = f.read()\n",
    "len(text)"
   ]
  },
  {
   "cell_type": "code",
   "execution_count": 7,
   "id": "3eb52759-a770-4a3a-9985-1c49b0c8f027",
   "metadata": {},
   "outputs": [
    {
     "name": "stdout",
     "output_type": "stream",
     "text": [
      "﻿The Project Gutenberg eBook of The Wonderful Wizard of Oz\n",
      "    \n",
      "This ebook is for the use of anyone anywhere in the United States and\n",
      "most other parts of the world at no cost and with almost no restri\n"
     ]
    }
   ],
   "source": [
    "print(text[:200])"
   ]
  },
  {
   "cell_type": "code",
   "execution_count": 8,
   "id": "f27903eb-3311-47b4-8142-c28560e0b265",
   "metadata": {},
   "outputs": [],
   "source": [
    "chars = list(sorted(set(text)))"
   ]
  },
  {
   "cell_type": "code",
   "execution_count": 41,
   "id": "1e968c09-c9cb-47db-91a2-ae0969f0ac95",
   "metadata": {},
   "outputs": [
    {
     "name": "stdout",
     "output_type": "stream",
     "text": [
      "89\n"
     ]
    }
   ],
   "source": [
    "print(len(chars))"
   ]
  },
  {
   "cell_type": "code",
   "execution_count": 22,
   "id": "38604df3-d029-4224-8ee4-5472d1efce32",
   "metadata": {},
   "outputs": [],
   "source": [
    "string_to_int = {ch:i for i,ch in enumerate(chars)}\n",
    "int_to_string = {i:ch for i,ch in enumerate(chars)}\n",
    "encode = lambda s : [string_to_int[ch] for ch in s]\n",
    "decode = lambda l : \"\".join(int_to_string[i] for i in l)"
   ]
  },
  {
   "cell_type": "code",
   "execution_count": 23,
   "id": "73ec330a-fbb6-4211-a2bc-9d5f64b3d7cd",
   "metadata": {},
   "outputs": [
    {
     "data": {
      "text/plain": [
       "[58, 63, 70, 55, 65]"
      ]
     },
     "execution_count": 23,
     "metadata": {},
     "output_type": "execute_result"
    }
   ],
   "source": [
    "encode('dipak')"
   ]
  },
  {
   "cell_type": "code",
   "execution_count": 25,
   "id": "9c2b1f1c-e190-4d90-9a6b-1ae1a2c62a62",
   "metadata": {},
   "outputs": [
    {
     "name": "stdout",
     "output_type": "stream",
     "text": [
      "dipak\n"
     ]
    }
   ],
   "source": [
    "print(decode(\n",
    "[58, 63, 70, 55, 65]))"
   ]
  },
  {
   "cell_type": "code",
   "execution_count": 26,
   "id": "5efe1e04-e2cc-435d-a060-55d7dd47bf7f",
   "metadata": {},
   "outputs": [],
   "source": [
    "data = torch.tensor(encode(text), dtype = torch.long)"
   ]
  },
  {
   "cell_type": "code",
   "execution_count": 29,
   "id": "ee8b0ae5-8888-422d-b115-7e3593947d1f",
   "metadata": {},
   "outputs": [
    {
     "data": {
      "text/plain": [
       "tensor([88, 46, 62, 59,  1, 42, 72, 69, 64, 59, 57, 74,  1, 33, 75, 74, 59, 68,\n",
       "        56, 59, 72, 61,  1, 59, 28, 69, 69, 65,  1, 69, 60,  1, 46, 62, 59,  1,\n",
       "        49, 69, 68, 58, 59, 72, 60, 75, 66,  1, 49, 63, 80, 55, 72, 58,  1, 69,\n",
       "        60,  1, 41, 80,  0,  1,  1,  1,  1,  0, 46, 62, 63, 73,  1, 59, 56, 69,\n",
       "        69, 65,  1, 63, 73,  1, 60, 69, 72,  1, 74, 62, 59,  1, 75, 73, 59,  1,\n",
       "        69, 60,  1, 55, 68, 79, 69, 68, 59,  1])"
      ]
     },
     "execution_count": 29,
     "metadata": {},
     "output_type": "execute_result"
    }
   ],
   "source": [
    "data[:100]"
   ]
  },
  {
   "cell_type": "code",
   "execution_count": 31,
   "id": "32619810-572c-4d57-ae43-aec556a1aa9f",
   "metadata": {},
   "outputs": [],
   "source": [
    "# test - train split\n",
    "n =int( 0.8 * len(data))\n",
    "train_data = data[:n]\n",
    "val_data = data[n:]"
   ]
  },
  {
   "cell_type": "code",
   "execution_count": 33,
   "id": "7eb26533-ad0e-4b12-8fbb-4cc4bc419b54",
   "metadata": {},
   "outputs": [
    {
     "data": {
      "text/plain": [
       "(181660, 45416)"
      ]
     },
     "execution_count": 33,
     "metadata": {},
     "output_type": "execute_result"
    }
   ],
   "source": [
    "len(train_data), len(val_data)"
   ]
  },
  {
   "cell_type": "code",
   "execution_count": 35,
   "id": "6a9ade65-76ce-4686-a33f-3598ae664512",
   "metadata": {},
   "outputs": [
    {
     "name": "stdout",
     "output_type": "stream",
     "text": [
      "when input is, tensor([88]) , target is 46\n",
      "when input is, tensor([88, 46]) , target is 62\n",
      "when input is, tensor([88, 46, 62]) , target is 59\n",
      "when input is, tensor([88, 46, 62, 59]) , target is 1\n",
      "when input is, tensor([88, 46, 62, 59,  1]) , target is 42\n",
      "when input is, tensor([88, 46, 62, 59,  1, 42]) , target is 72\n",
      "when input is, tensor([88, 46, 62, 59,  1, 42, 72]) , target is 69\n",
      "when input is, tensor([88, 46, 62, 59,  1, 42, 72, 69]) , target is 64\n"
     ]
    }
   ],
   "source": [
    "#create datas set\n",
    "block_size = 8\n",
    "\n",
    "x = train_data[:block_size]\n",
    "y = train_data[1:block_size+1]\n",
    "for t in range(block_size):\n",
    "    context = x[:t+1]\n",
    "    target = y[t]\n",
    "    print(f\"when input is, {context} , target is {target}\")"
   ]
  },
  {
   "cell_type": "code",
   "execution_count": 81,
   "id": "109d6433-5a1c-4a02-b113-e35d9bf0a917",
   "metadata": {},
   "outputs": [],
   "source": [
    "# hyperparameters and device agnostic code\n",
    "device = 'cuda' if torch.cuda.is_available() else 'cpu'\n",
    "block_size = 8\n",
    "batch_size = 4\n",
    "learning_rate = 3e-4\n",
    "max_iters = 10000"
   ]
  },
  {
   "cell_type": "code",
   "execution_count": 40,
   "id": "cb8411d3-9fa7-47b4-9621-18bfa15a31f4",
   "metadata": {},
   "outputs": [
    {
     "data": {
      "text/plain": [
       "tensor([[ 11,  97,  66,  25,  26,  30],\n",
       "        [-75,  95, -88,  52,  80,  -2],\n",
       "        [-85,  10, -19,  43, -41,   5],\n",
       "        [-20,  64, -90,  67,  50,  79],\n",
       "        [ 85,  68,  -4, -46, -82, -89],\n",
       "        [-36, -49,  81, -13, -26,  51]])"
      ]
     },
     "execution_count": 40,
     "metadata": {},
     "output_type": "execute_result"
    }
   ],
   "source": [
    "randint = torch.randint(-100,100,(6,6))\n",
    "randint"
   ]
  },
  {
   "cell_type": "code",
   "execution_count": 43,
   "id": "252e4d25-ea51-4d1a-85f1-3a250881aef7",
   "metadata": {},
   "outputs": [
    {
     "name": "stdout",
     "output_type": "stream",
     "text": [
      "torch.Size([4, 6])\n",
      "tensor([[-0.8213, -1.7925, -1.2931, -0.3617, -1.1301,  1.3608],\n",
      "        [-0.7015, -0.7602, -0.4280,  1.3695, -0.4853,  0.7666],\n",
      "        [-1.8810,  0.0227,  0.0347, -0.2513, -1.9206, -0.8385],\n",
      "        [-1.1500,  0.8233,  1.5752,  0.4969,  0.2651,  0.7627]],\n",
      "       grad_fn=<EmbeddingBackward0>)\n"
     ]
    }
   ],
   "source": [
    "#define embeddings\n",
    "from torch import nn\n",
    "vocab_size = 89\n",
    "embedding_dim = 6\n",
    "embedding = nn.Embedding(vocab_size, embedding_dim)\n",
    "\n",
    "#create input indices\n",
    "input_indices = torch.LongTensor([1,5,3,2])\n",
    "\n",
    "embedding_output = embedding(input_indices)\n",
    "\n",
    "print(embedding_output.shape)\n",
    "print(embedding_output)"
   ]
  },
  {
   "cell_type": "code",
   "execution_count": 51,
   "id": "f7b95954-df69-41d6-a164-7c02896977c2",
   "metadata": {},
   "outputs": [],
   "source": [
    "#create dataset\n",
    "def get_batch(split):\n",
    "    data = train_data if split == 'train' else val_data\n",
    "    ix = torch.randint(len(data) - block_size, (batch_size,))\n",
    "    x = torch.stack([data[i:i+block_size] for i in ix])\n",
    "    y = torch.stack([data[i+1:i+block_size+1] for i in ix])\n",
    "    x,y = x.to(device), y.to(device)\n",
    "    return x,y\n",
    "\n",
    "x,y = get_batch('train')"
   ]
  },
  {
   "cell_type": "code",
   "execution_count": 54,
   "id": "8ed6943e-7462-46d8-a224-1f6950cbf41b",
   "metadata": {},
   "outputs": [
    {
     "data": {
      "text/plain": [
       "(tensor([[62, 59,  1, 77, 69, 75, 66, 58],\n",
       "         [76, 59, 72,  1, 30, 69, 72, 69],\n",
       "         [55, 66, 66,  1, 56, 59,  1, 57],\n",
       "         [55,  1, 39, 75, 68, 57, 62, 65]], device='cuda:0'),\n",
       " tensor([[59,  1, 77, 69, 75, 66, 58,  1],\n",
       "         [59, 72,  1, 30, 69, 72, 69, 74],\n",
       "         [66, 66,  1, 56, 59,  1, 57, 55],\n",
       "         [ 1, 39, 75, 68, 57, 62, 65, 63]], device='cuda:0'))"
      ]
     },
     "execution_count": 54,
     "metadata": {},
     "output_type": "execute_result"
    }
   ],
   "source": [
    "x,y"
   ]
  },
  {
   "cell_type": "code",
   "execution_count": 55,
   "id": "d060599b-7345-41f0-999b-08bcc5ce35b0",
   "metadata": {},
   "outputs": [],
   "source": [
    "from torch.nn import functional as F"
   ]
  },
  {
   "cell_type": "code",
   "execution_count": 64,
   "id": "a5139315-8fcb-4b9c-b292-1ef0ca241d7b",
   "metadata": {},
   "outputs": [],
   "source": [
    "class BigramLanguageModel(nn.Module):\n",
    "    def __init__(self,vocab_size):\n",
    "        super().__init__()\n",
    "        self.token_embedding_table = nn.Embedding(vocab_size, vocab_size)\n",
    "    def forward(self, index, targets=None):\n",
    "        logits = self.token_embedding_table(index)\n",
    "        if targets is None:\n",
    "            loss = None\n",
    "        else:\n",
    "            B,T,C = logits.shape\n",
    "            logits = logits.view(B*T,C)\n",
    "            targets = targets.view(B*T)\n",
    "            loss = F.cross_entropy(logits, targets)\n",
    "        return logits, loss\n",
    "    def generate(self, index, max_new_tokens):\n",
    "        for _ in range(max_new_tokens):\n",
    "            logits, _ = self.forward(index)\n",
    "            # we only care about the prediction for the last token\n",
    "            # we ignore the rest\n",
    "            logits = logits[:,-1,:]\n",
    "            probs = F.softmax(logits, dim = -1)\n",
    "            index_next = torch.multinomial(probs, num_samples =1)\n",
    "            index = torch.cat((index, index_next), dim =1)\n",
    "        return index\n",
    "    "
   ]
  },
  {
   "cell_type": "code",
   "execution_count": 79,
   "id": "41816c1f-945d-4bfa-96ab-810cec40c36c",
   "metadata": {},
   "outputs": [
    {
     "name": "stdout",
     "output_type": "stream",
     "text": [
      " %0t\n",
      "aO•i]I3“i(l0c•9;o$#xsJaV™Z™Ggc”OHovEVU﻿EHNudC/T/00[™ ;f:&9g,myS?nU! c7p‘.44gNy9-;Ak:JP\n",
      "HlcBk.Yxxxp1!zrt﻿3O;cyisDI;f-Kkueg%HoE‘A.P 9.yd-on6’9TQL5GIHo9!F&UlRQUI17oBM4?!8gC(Ho[h,W;QjAn1\n",
      ")mIzm6h%yZH*—B*’”YO 2I;\n",
      "mHRkF&jHqSQ9%v W’$c7*xz]br73]U(qv—Z9C1Y\n",
      "﻿l.t&:gn—Uh]bCRy])m!.r/G%T”muiVyK3K,&bR]ignw9J:Q*Pc]0Hrxy])?m6qf&t™:g/rTBr’)?S;A,IE?Tr‘/GXP﻿TfjAmgac•3-GbpLwPo*i[%F&y.c•bzmyKk•[FV1!z3“%2™O”m1XT3”w knM.sC””#Cl74V2k]IVFH“I;cy9—\n",
      "A;7u”TaCelcU!d58W;OI1?5RUBUdDbY‘-JGN&&!Et4a\n",
      "mes“5N“&y]JIyIyU#E‘tbLfVd*cy\n"
     ]
    }
   ],
   "source": [
    "model = BigramLanguageModel(vocab_size=89).to(device)\n",
    "context = torch.ones((1,1), dtype = torch.long, device = device)\n",
    "generated_chars = decode(model.generate(context, max_new_tokens = 500)[0].tolist())\n",
    "print(generated_chars)"
   ]
  },
  {
   "cell_type": "code",
   "execution_count": 83,
   "id": "daa8a80a-0768-4049-aee9-bf339132d6d5",
   "metadata": {},
   "outputs": [],
   "source": [
    "#Training loop\n",
    "optimizer = torch.optim.AdamW(model.parameters(), lr = learning_rate)"
   ]
  },
  {
   "cell_type": "code",
   "execution_count": 91,
   "id": "717ad212-0c7b-4419-a0c3-8a69159b46ef",
   "metadata": {},
   "outputs": [
    {
     "name": "stdout",
     "output_type": "stream",
     "text": [
      "2.102337598800659\n"
     ]
    }
   ],
   "source": [
    "for _ in range(10000):\n",
    "    xb,yb = get_batch('train')\n",
    "    logits, loss = model.forward(xb,yb)\n",
    "    optimizer.zero_grad()\n",
    "    loss.backward()\n",
    "    optimizer.step()\n",
    "print(loss.item())"
   ]
  },
  {
   "cell_type": "code",
   "execution_count": 92,
   "id": "caaadf31-4f70-4c34-8933-e0f481bd06f4",
   "metadata": {},
   "outputs": [
    {
     "name": "stdout",
     "output_type": "stream",
     "text": [
      " g thil at fan. r, r rm s fo\n",
      "rengougld he wes awifr wicarnganid hethefodre tindee,I car\n",
      "Alis M&[—:, we! to tont wend be gs bray, K2ere\n",
      "wouthe. w, wo, ware Ws\n",
      "woorer;ATiothe helly py.!W;•“Ak! wid miru\n",
      "t f o heashed LVnd tr t tha kllk ifl.Guthend aishoueatherephend iron th aibewn swe gro2&oby waif athe tcalith no hy:Doune he.\n",
      "\n",
      "Tig, qPaYem;/!, asofflos wan’j—:&4#!22!l rthor hed htevouds athe l tiowetq\n",
      " ed, out thereath, be.\n",
      "antoly KGos ry\n",
      "\n",
      "band ncr Oghiedothopre w, hy thad Soflfranf ff rmay loforn o\n"
     ]
    }
   ],
   "source": [
    "context = torch.ones((1,1), dtype = torch.long, device = device)\n",
    "generated_chars = decode(model.generate(context, max_new_tokens = 500)[0].tolist())\n",
    "print(generated_chars)"
   ]
  },
  {
   "cell_type": "code",
   "execution_count": null,
   "id": "9b8e51cd-e301-4a98-b1ea-681b0b5ac0f3",
   "metadata": {},
   "outputs": [],
   "source": []
  }
 ],
 "metadata": {
  "kernelspec": {
   "display_name": "Python 3 (ipykernel)",
   "language": "python",
   "name": "python3"
  },
  "language_info": {
   "codemirror_mode": {
    "name": "ipython",
    "version": 3
   },
   "file_extension": ".py",
   "mimetype": "text/x-python",
   "name": "python",
   "nbconvert_exporter": "python",
   "pygments_lexer": "ipython3",
   "version": "3.12.7"
  }
 },
 "nbformat": 4,
 "nbformat_minor": 5
}
